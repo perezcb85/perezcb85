{
 "cells": [
  {
   "cell_type": "markdown",
   "metadata": {},
   "source": [
    "# Integration: How big are objects in the Universe?"
   ]
  },
  {
   "cell_type": "code",
   "execution_count": 1,
   "metadata": {},
   "outputs": [],
   "source": [
    "import numpy as np\n",
    "import matplotlib.pyplot as plt"
   ]
  },
  {
   "cell_type": "markdown",
   "metadata": {},
   "source": [
    "In cosmology, the angular diameter distance defines the distance to an object in terms of the angular size of the object as viewed from Earth. In other words, the size of an object on the sky depends on its distance. In a non-Euclidean space, space is expanding, and its expansion is affected by the matter in it. So, the geometry of the Universe can be considered a competition between the expansion rate and gravity.\n",
    "\n",
    "The expansion rate today is referred to as Hubble's constant, $H_o \\approx 70 \\frac{km}{s*Mpc}$ ($1 Mpc = 10^6 parasec = 3.09 x 10^{22} m$). For example, objects at a distance of 100 Mpc appear to be moving away from us at 7000 km/s on average.\n",
    "\n",
    "The expansion rate at earlier epochs, (a period of time in history or a person's life, typically one marked by notable events or particular characteristics), in the Universe can be expressed in terms of the cosmological redshift of that epoch relative to us--i.e., how much the wavelength of light is strecthed by the expansion of the Universe since it was emitted.\n",
    "\n",
    "$z = \\frac{(\\lambda_{observerd} - \\lambda_{emitted})}{\\lambda_{emitted}}$  Redshift (Doppler effect for light)\n",
    "\n",
    "$z = 0$ relates to today, whereas $z = \\infty$ relates to the moment of the Big Bang.\n",
    "\n",
    "$H_o = 3.09*10^{22}$ m  Today's expansion rate (Hubble's Constant).\n",
    "\n",
    "$H(z') = Ho*(0.3*(1+z')^3 + 0.7)^\\frac{1}{2}$  Evolving expanssion rate.\n",
    "\n",
    "$D_A(z) = \\frac{1}{1+z} \\int \\frac{c}{H(z')dz'}$  Angular diameter distance in cosmology for a non Euclidean space."
   ]
  },
  {
   "cell_type": "code",
   "execution_count": 2,
   "metadata": {},
   "outputs": [],
   "source": [
    "# Define redshift array.\n",
    "z_vals = np.arange(.25,10,.25)\n",
    "\n",
    "def f(z):\n",
    "     \"\"\"\n",
    "    Returns Hubble parameter (expansion rate).\n",
    "    0.3 is the dimensionless matter density of the Universe.\n",
    "    0.7 is the comological constant.\n",
    "    \n",
    "    Inputs: z\n",
    "    \"\"\"\n",
    "    return (70.)*np.sqrt(0.3*(1+z)**3 + 0.7)\n",
    "\n",
    "def Trapezoidal_Integration(a,n):\n",
    "    \"\"\"\n",
    "    Manual tradezoidal integration in association with the angular diameter distance function.\n",
    "    \n",
    "    Inputs: a (start point of integration), n (number of trapezoids)\n",
    "    \"\"\"\n",
    "    Area = []\n",
    "    c = 3.0e5 #[km/s]\n",
    "\n",
    "    for b in z_vals:\n",
    "        width = b/n # a=0.\n",
    "        summ = 0.5 * (1/f(a) + 1/f(b))\n",
    "\n",
    "        for i in np.arange(1,n): # range(1,n) or n times, Left hand approximations.\n",
    "            summ += 1/f(a+i*width) # f(a+i*width)\n",
    "            \n",
    "        Area.append(summ*width*c/(1+b))\n",
    "\n",
    "    return Area"
   ]
  },
  {
   "cell_type": "code",
   "execution_count": 3,
   "metadata": {},
   "outputs": [],
   "source": [
    "def Simpson_Integration(a,n):\n",
    "    \"\"\"\n",
    "    Manual parabolic integration in association with the angular diameter distance function.\n",
    "    \n",
    "    Inputs: a (start point of integration), n (number of parabolas)\n",
    "    \"\"\"\n",
    "    \n",
    "    Area = []\n",
    "    c = 3.00e5 # [km/s]\n",
    "\n",
    "    for b in z_vals:\n",
    "        \n",
    "        h = b/n # for a = 0.\n",
    "        summation = 1/f(a) + 1/f(b)\n",
    "\n",
    "        # Odd Sums\n",
    "        for i in range(1,n,2):\n",
    "            summation += 4/f(a+i*h)\n",
    "\n",
    "        # Even Sums\n",
    "        for i in range(2,n,2):\n",
    "            summation += 2/f(a+i*h)\n",
    "\n",
    "        Area.append((h/3)*summation*c/(1 + b))\n",
    "\n",
    "    return Area"
   ]
  },
  {
   "cell_type": "code",
   "execution_count": 4,
   "metadata": {},
   "outputs": [],
   "source": [
    "def gaussxw(N):\n",
    "\n",
    "    # Initial approximation to roots of the Legendre polynomial\n",
    "    a = np.linspace(3,4*N-1,N)/(4*N+2)\n",
    "    x = np.cos(np.pi*a+1/(8*N*N*np.tan(a)))\n",
    "\n",
    "    # Find roots using Newton's method\n",
    "    epsilon = 1e-15\n",
    "    delta = 1.0\n",
    "    while delta>epsilon:\n",
    "        p0 = np.ones(N,float)\n",
    "        p1 = np.copy(x)\n",
    "        for k in range(1,N):\n",
    "            p0,p1 = p1,((2*k+1)*x*p1-k*p0)/(k+1)\n",
    "        dp = (N+1)*(p0-x*p1)/(1-x*x)\n",
    "        dx = p1/dp\n",
    "        x -= dx\n",
    "        delta = max(abs(dx))\n",
    "\n",
    "    # Calculate the weights\n",
    "    w = 2*(N+1)*(N+1)/(N*N*(1-x*x)*dp*dp)\n",
    "\n",
    "    return x,w\n",
    "\n",
    "def gaussxwab(N,a,b):\n",
    "    x,w = gaussxw(N)\n",
    "    return 0.5*(b-a)*x+0.5*(b+a),0.5*(b-a)*w"
   ]
  },
  {
   "cell_type": "code",
   "execution_count": 5,
   "metadata": {},
   "outputs": [],
   "source": [
    "def g_int(a,N):\n",
    "\n",
    "    #number of points needed to integrate a degree n=4 polynomial\n",
    "    #(satisfies n= 2N-1, rounded up to the next integer)\n",
    "    Area = []\n",
    "    c = 3.00e5\n",
    "    \n",
    "    for b in z_vals:\n",
    "\n",
    "        # Calculate the sample points and weights,\n",
    "        # then map them to the required integration domain\n",
    "        x,w = gaussxw(N)\n",
    "        xp = 0.5 * (b-a)*x + 0.5*(b+a)\n",
    "        wp = 0.5 * (b-a)*w\n",
    "\n",
    "        # Perform the integration\n",
    "        s = 0\n",
    "        for k in range(N):\n",
    "            s += wp[k]/f(xp[k])\n",
    "        Area.append(s * c/ (1 + b))\n",
    "    return Area"
   ]
  },
  {
   "cell_type": "markdown",
   "metadata": {},
   "source": [
    "**numpy.trapz(y, x=None, dx=1.0, axis=-1)**\n",
    "\n",
    "Integrate along the given axis using the composite trapezoidal rule.\n",
    "\n",
    "Integrate y (x) along given axis.\n",
    "\n",
    "**Parameters**\n",
    "\n",
    "y : array_like\n",
    "Input array to integrate.\n",
    "\n",
    "x : array_like, optional\n",
    "The sample points corresponding to the y values. If x is None, the sample points are assumed to be evenly spaced dx apart. The default is None.\n",
    "\n",
    "dx : scalar, optional\n",
    "The spacing between sample points when x is None. The default is 1.\n",
    "\n",
    "axis : int, optional\n",
    "The axis along which to integrate.\n",
    "\n",
    "**Returns**\n",
    "\n",
    "trapzfloat\n",
    "Definite integral as approximated by trapezoidal rule."
   ]
  },
  {
   "cell_type": "code",
   "execution_count": 6,
   "metadata": {},
   "outputs": [
    {
     "name": "stdout",
     "output_type": "stream",
     "text": [
      "2.666668002670672\n"
     ]
    }
   ],
   "source": [
    "# Playing with scipy's trapz function.\n",
    "import scipy.integrate as py\n",
    "    \n",
    "x1 = np.linspace(0,2,1000)\n",
    "y = x1**2\n",
    "s = py.trapz(y,x1)\n",
    "print(s)\n",
    "# (x**3)/3 from 2 to 0 is 2.6666666666666665"
   ]
  },
  {
   "cell_type": "code",
   "execution_count": 7,
   "metadata": {},
   "outputs": [],
   "source": [
    "# Passing in a function in a function.\n",
    "def trapz(function,n):\n",
    "     \"\"\"\n",
    "    Numpy's tradezoidal integration in association with the angular diameter distance function..\n",
    "    \n",
    "    Inputs: function, n (number of trapezoids)\n",
    "    \"\"\"\n",
    "    \n",
    "    c = 3.0e5\n",
    "    Area = []\n",
    "\n",
    "    for b in z_vals:\n",
    "        width = b/n\n",
    "        x = np.arange(0,b+width,width)\n",
    "        s = py.trapz(1/function(x),x)\n",
    "        Int = s*c/(1+b)\n",
    "        Area.append(Int)\n",
    "\n",
    "    return Area"
   ]
  },
  {
   "cell_type": "code",
   "execution_count": 13,
   "metadata": {},
   "outputs": [
    {
     "name": "stdout",
     "output_type": "stream",
     "text": [
      "\n",
      "Angular diameter distance at z = 10:\n",
      "\n",
      "Trapezoid rule: 873.841 Mpc\n",
      "Simpson's rule: 873.701 Mpc\n",
      "Numpy trapz rule: 873.841 Mpc\n",
      "\n",
      "For n = 100 for all integrals except the Gaussian Quad., \n",
      "the relative Integration errors compared to the Gauss Quadrature is:\n",
      "Trapezoidal Integral is 0.0001709.\n",
      "Simpson's Integral is 5.168e-05.\n",
      "Numpy's Trapezoidal Integral is 0.00335127.\n"
     ]
    }
   ],
   "source": [
    "# Calculate the relative error with respect to Gaussian Quadrature. \n",
    "# (n=100 for trapezoidal & simpson's integration; GQ,n = 10)\n",
    "\n",
    "data_trap = np.array(Trapezoidal_Integration(0,100))\n",
    "data_simp = np.array(Simpson_Integration(0,100))\n",
    "data_g = np.array(g_int(0,7))\n",
    "data_nptrap = np.array(trapz(f,100))\n",
    "\n",
    "erel_trap = np.abs(data_g - data_trap) / data_g\n",
    "erel_simp = np.abs(data_g - data_simp) / data_g\n",
    "erel_nptrap = np.abs(data_g - data_nptrap) / data_g\n",
    "\n",
    "#results\n",
    "print(\"\\nAngular diameter distance at z = 10:\\n\")\n",
    "print(\"Trapezoid rule: {} Mpc\".format(np.round(data_trap[-1],3)))\n",
    "print(\"Simpson's rule: {} Mpc\".format(np.round(data_simp[-1],3)))\n",
    "print(\"Numpy trapz rule: {} Mpc\\n\".format(np.round(data_nptrap[-1],3)))\n",
    "print(\"For n = 100 for all integrals except the Gaussian Quad., \\nthe relative Integration errors compared to the Gauss Quadrature is:\")\n",
    "print(\"Trapezoidal Integral is {}.\".format(np.round(erel_trap.max(),7)))\n",
    "print(\"Simpson's Integral is {}.\".format(np.round(erel_simp.max(),8)))\n",
    "print(\"Numpy's Trapezoidal Integral is {}.\".format(np.round(erel_nptrap.max(),8)))"
   ]
  },
  {
   "cell_type": "code",
   "execution_count": 10,
   "metadata": {},
   "outputs": [
    {
     "data": {
      "image/png": "[encoded data removed]",
      "text/plain": [
       "<Figure size 432x288 with 1 Axes>"
      ]
     },
     "metadata": {
      "needs_background": "light"
     },
     "output_type": "display_data"
    }
   ],
   "source": [
    "plt.figure()\n",
    "plt.plot(z_vals,Trapezoidal_Integration(0,100**2),label='Trapezoidal Integration',color='Red')\n",
    "plt.plot(z_vals,Simpson_Integration(0,100**2),label=\"Simpson's Integration\",color='Blue')\n",
    "plt.plot(z_vals,g_int(0,10),label='Gaussian Quadrature.',color='green')\n",
    "plt.plot(z_vals,trapz(f,100**2),label='np.trapz()',color='yellow')\n",
    "plt.title('Integration Techniques of $D_A(z)$.')\n",
    "plt.ylabel('$D_A(z)$ [Mpc]')\n",
    "plt.xlabel('z')\n",
    "plt.legend()\n",
    "plt.show()"
   ]
  },
  {
   "cell_type": "code",
   "execution_count": 11,
   "metadata": {},
   "outputs": [
    {
     "name": "stdout",
     "output_type": "stream",
     "text": [
      "For n = 100**2 for for all integrals except the Gaussian Quad, \n",
      "the relative Integration errors compared to Gauss Quadrature is:\n",
      "Trapezoidal Integral is 5.183e-05.\n",
      "Simpson's Integral is 5.182e-05.\n",
      "Numpy's Trapezoidal Integral is 7.982e-05.\n"
     ]
    }
   ],
   "source": [
    "# Calculate the relative error with respect to Gaussian Quadrature.\n",
    "# (n=100**2 for trapezoidal & simpson's integration; GQ,n = 7)\n",
    "\n",
    "data_trap = np.array(Trapezoidal_Integration(0,100**2))\n",
    "data_simp = np.array(Simpson_Integration(0,100**2))\n",
    "data_g = np.array(g_int(0,7))\n",
    "data_nptrap = np.array(trapz(f,100**2))\n",
    "\n",
    "erel_trap = np.abs(data_g - data_trap) / data_g\n",
    "erel_simp = np.abs(data_g - data_simp) / data_g\n",
    "erel_nptrap = np.abs(data_g - data_nptrap) / data_g\n",
    "\n",
    "print(\"For n = 100**2 for for all integrals except the Gaussian Quad, \\nthe relative Integration errors compared to Gauss Quadrature is:\")\n",
    "print(\"Trapezoidal Integral is {}.\".format(np.round(erel_trap.max(),8)))\n",
    "print(\"Simpson's Integral is {}.\".format(np.round(erel_simp.max(),8)))\n",
    "print(\"Numpy's Trapezoidal Integral is {}.\".format(np.round(erel_nptrap.max(),8)))"
   ]
  },
  {
   "cell_type": "code",
   "execution_count": 12,
   "metadata": {},
   "outputs": [
    {
     "data": {
      "image/png": "[encoded data removed]",
      "text/plain": [
       "<Figure size 432x432 with 4 Axes>"
      ]
     },
     "metadata": {
      "needs_background": "light"
     },
     "output_type": "display_data"
    }
   ],
   "source": [
    "# Plot the results with subplots.\n",
    "fig = plt.figure(figsize=(6,6))\n",
    "xlbl='$z$'\n",
    "ylbl=r'$D_A(z)$ [Mpc]'\n",
    "\n",
    "ax1=fig.add_subplot(221)\n",
    "plt.xlabel(xlbl)\n",
    "plt.ylabel(ylbl)\n",
    "plt.xlim(0,10)\n",
    "p1,=ax1.plot(z_vals, data_trap,color='r')\n",
    "ax1.legend((p1,),('trapezoid',))\n",
    "\n",
    "ax2=fig.add_subplot(222)\n",
    "plt.xlabel(xlbl)\n",
    "plt.ylabel(ylbl)\n",
    "plt.xlim(0,10)\n",
    "p2,=ax2.plot(z_vals, data_simp,color='b')\n",
    "ax2.legend((p2,),('simpson',))\n",
    "\n",
    "ax3=fig.add_subplot(223)\n",
    "plt.xlabel(xlbl)\n",
    "plt.ylabel(ylbl)\n",
    "plt.xlim(0,10)\n",
    "p3,=ax3.plot(z_vals, data_g,color='g')\n",
    "ax3.legend((p3,),('gauss quad',))\n",
    "\n",
    "ax4=fig.add_subplot(224)\n",
    "plt.xlabel(xlbl)\n",
    "plt.ylabel(ylbl)\n",
    "plt.xlim(0,10)\n",
    "p4,=ax4.plot(z_vals, data_nptrap,color='brown')\n",
    "ax4.legend((p4,),('np.trapz',))\n",
    "\n",
    "fig.subplots_adjust(hspace=0.3,wspace=0.35,left=0.12,right=0.96)\n",
    "fig.suptitle('Angular diameter distance vs. redshift')\n",
    "plt.savefig('D_A_compare.pdf')"
   ]
  }
 ],
 "metadata": {
  "kernelspec": {
   "display_name": "Python 3",
   "language": "python",
   "name": "python3"
  },
  "language_info": {
   "codemirror_mode": {
    "name": "ipython",
    "version": 3
   },
   "file_extension": ".py",
   "mimetype": "text/x-python",
   "name": "python",
   "nbconvert_exporter": "python",
   "pygments_lexer": "ipython3",
   "version": "3.7.4"
  }
 },
 "nbformat": 4,
 "nbformat_minor": 2
}
