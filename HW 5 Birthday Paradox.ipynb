{
 "cells": [
  {
   "cell_type": "code",
   "execution_count": 1,
   "metadata": {},
   "outputs": [
    {
     "name": "stdout",
     "output_type": "stream",
     "text": [
      "23\n",
      "3.142004\n"
     ]
    }
   ],
   "source": [
    "#=======================================================\n",
    "# Homework5\n",
    "#=======================================================\n",
    "# Carlos Perez\n",
    "#=======================================================\n",
    "import numpy as np\n",
    "import random\n",
    "#=======================================================\n",
    "# Monte carlo on birthday paradox\n",
    "#=======================================================\n",
    "# 1. Birthday paradox\n",
    "result=dict() # store data in a dictionary (type of list)\n",
    "for N in range(40): # N is number of peoples, here I've chosen it to be 0-39\n",
    "    runN=10000 # number of samples to be averaged in each scenario\n",
    "    matchCount=0\n",
    "\n",
    "    for i in range(runN):\n",
    "        birthdays=[]\n",
    "        for i in range(N):\n",
    "            birthdays.append(random.randint(1,365))\n",
    "        if len(set(birthdays))!=N: #check if birthdays repeat\n",
    "            matchCount+=1\n",
    "    matchRate=matchCount/runN\n",
    "    result.update({N:matchRate})\n",
    "    resultSelect=dict((k,v) for k,v in result.items() if v>=0.5) # remove keys whose values are <0.5\n",
    "minN=min(resultSelect,key=resultSelect.get) # find the key with the minimum value of all the values >=0.5\n",
    "print(minN)\n",
    "#===========================================================\n",
    "# 2. calculate pi\n",
    "#1/4 of a circle of radius 1 in 1x1 square, the square spans from (0,0) to (1,1) with side length 1.\n",
    "N=10000000\n",
    "insideCount=0 #how many points are inside the circle\n",
    "for i in range(N):\n",
    "    x=random.random()\n",
    "    y=random.random()\n",
    "    if x**2+y**2<=1: # same as np.sqrt(x**2+y**2)<=1\n",
    "        insideCount+=1\n",
    "Pi=insideCount/N*4\n",
    "print(Pi)\n",
    "#============================================================"
   ]
  }
 ],
 "metadata": {
  "kernelspec": {
   "display_name": "Python 3",
   "language": "python",
   "name": "python3"
  },
  "language_info": {
   "codemirror_mode": {
    "name": "ipython",
    "version": 3
   },
   "file_extension": ".py",
   "mimetype": "text/x-python",
   "name": "python",
   "nbconvert_exporter": "python",
   "pygments_lexer": "ipython3",
   "version": "3.7.4"
  }
 },
 "nbformat": 4,
 "nbformat_minor": 2
}
